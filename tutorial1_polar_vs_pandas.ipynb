{
 "cells": [
  {
   "cell_type": "markdown",
   "metadata": {},
   "source": [
    "# Polars vs Pandas"
   ]
  },
  {
   "cell_type": "code",
   "execution_count": 1,
   "metadata": {},
   "outputs": [],
   "source": [
    "import pandas as pd\n",
    "import polars as pl\n",
    "import duckdb\n",
    "import openpyxl\n",
    "import xlsxwriter\n",
    "import time\n",
    "from datetime import datetime\n"
   ]
  },
  {
   "cell_type": "code",
   "execution_count": 2,
   "metadata": {},
   "outputs": [],
   "source": [
    "# pandas read csv data\n",
    "pandas_df=pd.read_csv(\"./src/data/Advance.csv\", dtype=str)"
   ]
  },
  {
   "cell_type": "code",
   "execution_count": 3,
   "metadata": {},
   "outputs": [],
   "source": [
    "# polars read csv data\n",
    "polars_df=pl.read_csv(\"./src/data/Advance.csv\", infer_schema=False)"
   ]
  },
  {
   "cell_type": "code",
   "execution_count": 4,
   "metadata": {},
   "outputs": [
    {
     "data": {
      "text/html": [
       "<div>\n",
       "<style scoped>\n",
       "    .dataframe tbody tr th:only-of-type {\n",
       "        vertical-align: middle;\n",
       "    }\n",
       "\n",
       "    .dataframe tbody tr th {\n",
       "        vertical-align: top;\n",
       "    }\n",
       "\n",
       "    .dataframe thead th {\n",
       "        text-align: right;\n",
       "    }\n",
       "</style>\n",
       "<table border=\"1\" class=\"dataframe\">\n",
       "  <thead>\n",
       "    <tr style=\"text-align: right;\">\n",
       "      <th></th>\n",
       "      <th>Symbol</th>\n",
       "      <th>Series</th>\n",
       "      <th>LTP</th>\n",
       "      <th>%chng</th>\n",
       "      <th>Mkt Cap (₹ Crores)</th>\n",
       "      <th>Volume (Lakhs)</th>\n",
       "      <th>Value (₹ Crores)</th>\n",
       "    </tr>\n",
       "  </thead>\n",
       "  <tbody>\n",
       "    <tr>\n",
       "      <th>0</th>\n",
       "      <td>ICICIBANK</td>\n",
       "      <td>EQ</td>\n",
       "      <td>1259.6</td>\n",
       "      <td>0.55</td>\n",
       "      <td>887801.07</td>\n",
       "      <td>135.46</td>\n",
       "      <td>1693.26</td>\n",
       "    </tr>\n",
       "    <tr>\n",
       "      <th>1</th>\n",
       "      <td>AXISBANK</td>\n",
       "      <td>EQ</td>\n",
       "      <td>1189</td>\n",
       "      <td>1.85</td>\n",
       "      <td>367833.79</td>\n",
       "      <td>127.98</td>\n",
       "      <td>1512.98</td>\n",
       "    </tr>\n",
       "    <tr>\n",
       "      <th>2</th>\n",
       "      <td>ITC</td>\n",
       "      <td>EQ</td>\n",
       "      <td>482.25</td>\n",
       "      <td>2.24</td>\n",
       "      <td>603178.95</td>\n",
       "      <td>309.57</td>\n",
       "      <td>1505.4</td>\n",
       "    </tr>\n",
       "    <tr>\n",
       "      <th>3</th>\n",
       "      <td>BEL</td>\n",
       "      <td>EQ</td>\n",
       "      <td>275.55</td>\n",
       "      <td>1.55</td>\n",
       "      <td>201420.96</td>\n",
       "      <td>404.04</td>\n",
       "      <td>1079.83</td>\n",
       "    </tr>\n",
       "    <tr>\n",
       "      <th>4</th>\n",
       "      <td>LAURUSLABS</td>\n",
       "      <td>EQ</td>\n",
       "      <td>463.65</td>\n",
       "      <td>3.66</td>\n",
       "      <td>24998.12</td>\n",
       "      <td>198.8</td>\n",
       "      <td>930.2</td>\n",
       "    </tr>\n",
       "  </tbody>\n",
       "</table>\n",
       "</div>"
      ],
      "text/plain": [
       "      Symbol  Series     LTP  %chng  Mkt Cap (₹ Crores) Volume (Lakhs)  \\\n",
       "0   ICICIBANK      EQ  1259.6   0.55          887801.07         135.46   \n",
       "1    AXISBANK      EQ    1189   1.85          367833.79         127.98   \n",
       "2         ITC      EQ  482.25   2.24          603178.95         309.57   \n",
       "3         BEL      EQ  275.55   1.55          201420.96         404.04   \n",
       "4  LAURUSLABS      EQ  463.65   3.66           24998.12          198.8   \n",
       "\n",
       "  Value (₹ Crores)  \n",
       "0          1693.26  \n",
       "1          1512.98  \n",
       "2           1505.4  \n",
       "3          1079.83  \n",
       "4            930.2  "
      ]
     },
     "execution_count": 4,
     "metadata": {},
     "output_type": "execute_result"
    }
   ],
   "source": [
    "pandas_df.head()"
   ]
  },
  {
   "cell_type": "code",
   "execution_count": 5,
   "metadata": {},
   "outputs": [
    {
     "name": "stdout",
     "output_type": "stream",
     "text": [
      "shape: (519, 7)\n",
      "┌────────────┬─────────┬─────────┬────────┬────────────────────┬────────────────┬──────────────────┐\n",
      "│ Symbol     ┆ Series  ┆ LTP     ┆ %chng  ┆ Mkt Cap (₹ Crores) ┆ Volume (Lakhs) ┆ Value (₹ Crores) │\n",
      "│ ---        ┆ ---     ┆ ---     ┆ ---    ┆ ---                ┆ ---            ┆ ---              │\n",
      "│ str        ┆ str     ┆ str     ┆ str    ┆ str                ┆ str            ┆ str              │\n",
      "╞════════════╪═════════╪═════════╪════════╪════════════════════╪════════════════╪══════════════════╡\n",
      "│ ICICIBANK  ┆ EQ      ┆ 1259.6  ┆ 0.55   ┆ 887801.07          ┆ 135.46         ┆ 1693.26          │\n",
      "│ AXISBANK   ┆ EQ      ┆ 1189    ┆ 1.85   ┆ 367833.79          ┆ 127.98         ┆ 1512.98          │\n",
      "│ ITC        ┆ EQ      ┆ 482.25  ┆ 2.24   ┆ 603178.95          ┆ 309.57         ┆ 1505.4           │\n",
      "│ BEL        ┆ EQ      ┆ 275.55  ┆ 1.55   ┆ 201420.96          ┆ 404.04         ┆ 1079.83          │\n",
      "│ LAURUSLABS ┆ EQ      ┆ 463.65  ┆ 3.66   ┆ 24998.12           ┆ 198.8          ┆ 930.2            │\n",
      "│ …          ┆ …       ┆ …       ┆ …      ┆ …                  ┆ …              ┆ …                │\n",
      "│ 94IFCI25   ┆ NL      ┆ 1057.8  ┆ 0.27   ┆ 320.32             ┆ 0              ┆ 0                │\n",
      "│ 735NABAR31 ┆ N1      ┆ 1150    ┆ 1.32   ┆ 0                  ┆ 0              ┆ 0                │\n",
      "│ 980IFSL25  ┆ N5      ┆ 1097.99 ┆ 3.1    ┆ 27.95              ┆ 0              ┆ 0                │\n",
      "│ 746GS2073  ┆ GS      ┆ 111     ┆ 0.02   ┆ 118770             ┆ 0              ┆ 0                │\n",
      "│ 883GS2041  ┆ GS      ┆ 117.2   ┆ 5      ┆ 105480             ┆ 0              ┆ 0                │\n",
      "└────────────┴─────────┴─────────┴────────┴────────────────────┴────────────────┴──────────────────┘\n"
     ]
    }
   ],
   "source": [
    "print(polars_df)"
   ]
  },
  {
   "cell_type": "code",
   "execution_count": 6,
   "metadata": {},
   "outputs": [
    {
     "name": "stdout",
     "output_type": "stream",
     "text": [
      "        Symbol  Series      LTP  %chng  Mkt Cap (₹ Crores) Volume (Lakhs)  \\\n",
      "0     ICICIBANK      EQ   1259.6   0.55          887801.07         135.46   \n",
      "1      AXISBANK      EQ     1189   1.85          367833.79         127.98   \n",
      "2           ITC      EQ   482.25   2.24          603178.95         309.57   \n",
      "3           BEL      EQ   275.55   1.55          201420.96         404.04   \n",
      "4    LAURUSLABS      EQ   463.65   3.66           24998.12          198.8   \n",
      "..          ...     ...      ...    ...                ...            ...   \n",
      "514    94IFCI25      NL   1057.8   0.27             320.32              0   \n",
      "515  735NABAR31      N1     1150   1.32                  0              0   \n",
      "516   980IFSL25      N5  1097.99    3.1              27.95              0   \n",
      "517   746GS2073      GS      111   0.02             118770              0   \n",
      "518   883GS2041      GS    117.2      5             105480              0   \n",
      "\n",
      "    Value (₹ Crores)  \n",
      "0            1693.26  \n",
      "1            1512.98  \n",
      "2             1505.4  \n",
      "3            1079.83  \n",
      "4              930.2  \n",
      "..               ...  \n",
      "514                0  \n",
      "515                0  \n",
      "516                0  \n",
      "517                0  \n",
      "518                0  \n",
      "\n",
      "[519 rows x 7 columns]\n"
     ]
    }
   ],
   "source": [
    "print(pandas_df)"
   ]
  },
  {
   "cell_type": "code",
   "execution_count": null,
   "metadata": {},
   "outputs": [],
   "source": []
  }
 ],
 "metadata": {
  "kernelspec": {
   "display_name": "venv",
   "language": "python",
   "name": "python3"
  },
  "language_info": {
   "codemirror_mode": {
    "name": "ipython",
    "version": 3
   },
   "file_extension": ".py",
   "mimetype": "text/x-python",
   "name": "python",
   "nbconvert_exporter": "python",
   "pygments_lexer": "ipython3",
   "version": "3.10.7"
  }
 },
 "nbformat": 4,
 "nbformat_minor": 2
}
